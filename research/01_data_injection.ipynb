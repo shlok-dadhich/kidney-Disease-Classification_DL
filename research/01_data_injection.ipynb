{
 "cells": [
  {
   "cell_type": "code",
   "execution_count": 1,
   "id": "4e09db8f",
   "metadata": {},
   "outputs": [],
   "source": [
    "import os"
   ]
  },
  {
   "cell_type": "code",
   "execution_count": 2,
   "id": "4cec3df3",
   "metadata": {},
   "outputs": [
    {
     "data": {
      "text/plain": [
       "'f:\\\\kidney-Disease-Classification_DL\\\\research'"
      ]
     },
     "execution_count": 2,
     "metadata": {},
     "output_type": "execute_result"
    }
   ],
   "source": [
    "%pwd"
   ]
  },
  {
   "cell_type": "code",
   "execution_count": 3,
   "id": "c6f0e998",
   "metadata": {},
   "outputs": [],
   "source": [
    "os.chdir(\"f:/kidney-Disease-Classification_DL\")"
   ]
  },
  {
   "cell_type": "code",
   "execution_count": 4,
   "id": "d3b586a8",
   "metadata": {},
   "outputs": [],
   "source": [
    "from dataclasses import dataclass\n",
    "from pathlib import Path\n",
    "\n",
    "@dataclass(frozen=True)\n",
    "class DataInjectionConfig:\n",
    "    root_dir: Path\n",
    "    source_URL: str\n",
    "    local_data_file: Path\n",
    "    unzip_dir: Path"
   ]
  },
  {
   "cell_type": "code",
   "execution_count": 5,
   "id": "a5da44a0",
   "metadata": {},
   "outputs": [],
   "source": [
    "from CNNClassifier.constants import *\n",
    "from CNNClassifier.utils.common import read_yaml, create_directories\n",
    "\n",
    "class ConfigurationManager:\n",
    "    def __init__(self,\n",
    "                 config_filepath=Config_PATH,\n",
    "                 params_filepath=Params_PATH):\n",
    "        self.config = read_yaml(config_filepath)\n",
    "        self.params = read_yaml(params_filepath)\n",
    "        create_directories([self.config.artifacts_root])\n",
    "\n",
    "    def get_data_injection_config(self) -> DataInjectionConfig:\n",
    "        config = self.config.data_injection\n",
    "        create_directories([config.root_dir])\n",
    "        data_injection_config = DataInjectionConfig(\n",
    "            root_dir=Path(config.root_dir),\n",
    "            source_URL=config.source_URL,\n",
    "            local_data_file=Path(config.local_data_file),\n",
    "            unzip_dir=Path(config.unzip_dir)\n",
    "        )\n",
    "        return data_injection_config"
   ]
  },
  {
   "cell_type": "code",
   "execution_count": 12,
   "id": "3ec64dfe",
   "metadata": {},
   "outputs": [],
   "source": [
    "import gdown\n",
    "import zipfile\n",
    "import os\n",
    "from pathlib import Path\n",
    "\n",
    "from CNNClassifier.utils.common import get_size\n",
    "from CNNClassifier import logger\n",
    "\n",
    "\n",
    "class DataInjection:\n",
    "    def __init__(self, config: DataInjectionConfig):\n",
    "        self.config = config\n",
    "\n",
    "    def download_file(self):\n",
    "        \"\"\"\n",
    "        Download file from Google Drive using gdown\n",
    "        \"\"\"\n",
    "        os.makedirs(\"artifacts/data_injection\", exist_ok=True)\n",
    "\n",
    "        if not os.path.exists(self.config.local_data_file):\n",
    "            logger.info(\n",
    "                f\"Downloading file from: [{self.config.source_URL}] \"\n",
    "                f\"to: [{self.config.local_data_file}]\"\n",
    "            )\n",
    "            gdown.download(\n",
    "                url=self.config.source_URL,\n",
    "                output=str(self.config.local_data_file),\n",
    "                quiet=False\n",
    "            )\n",
    "        else:\n",
    "            logger.info(\n",
    "                f\"File already exists of size: \"\n",
    "                f\"[{get_size(Path(self.config.local_data_file))}]\"\n",
    "            )\n",
    "\n",
    "    def extract_zip_file(self):\n",
    "        \"\"\"\n",
    "        Extracts the downloaded zip file into the configured unzip directory\n",
    "        \"\"\"\n",
    "        unzip_dir = Path(self.config.unzip_dir)\n",
    "        os.makedirs(unzip_dir, exist_ok=True)\n",
    "\n",
    "        with zipfile.ZipFile(self.config.local_data_file, 'r') as zip_ref:\n",
    "            zip_ref.extractall(unzip_dir)\n",
    "            logger.info(f\"Extracted zip file to: {unzip_dir}\")\n"
   ]
  },
  {
   "cell_type": "code",
   "execution_count": 13,
   "id": "27d2fabe",
   "metadata": {},
   "outputs": [
    {
     "name": "stdout",
     "output_type": "stream",
     "text": [
      "[2025-09-28 13:01:49,362: INFO: common]: yaml file: config\\config.yaml loaded successfully\n",
      "[2025-09-28 13:01:49,365: INFO: common]: yaml file: params.yaml loaded successfully\n",
      "[2025-09-28 13:01:49,368: INFO: common]: Created directory at: artifacts\n",
      "[2025-09-28 13:01:49,370: INFO: common]: Created directory at: artifacts/data_injection\n",
      "DataInjectionConfig(root_dir=WindowsPath('artifacts/data_injection'), source_URL='https://drive.google.com/uc?id=1japQFug4eo3bz9mKibbk-aR4YJVhU4H1', local_data_file=WindowsPath('artifacts/data_injection/data.zip'), unzip_dir=WindowsPath('artifacts/data_injection'))\n",
      "[2025-09-28 13:01:49,373: INFO: 3970809810]: Downloading file from: [https://drive.google.com/uc?id=1japQFug4eo3bz9mKibbk-aR4YJVhU4H1] to: [artifacts\\data_injection\\data.zip]\n"
     ]
    },
    {
     "name": "stderr",
     "output_type": "stream",
     "text": [
      "Downloading...\n",
      "From (original): https://drive.google.com/uc?id=1japQFug4eo3bz9mKibbk-aR4YJVhU4H1\n",
      "From (redirected): https://drive.google.com/uc?id=1japQFug4eo3bz9mKibbk-aR4YJVhU4H1&confirm=t&uuid=5f291fd1-e8c9-4be5-85ab-f2617fd4ba76\n",
      "To: f:\\kidney-Disease-Classification_DL\\artifacts\\data_injection\\data.zip\n",
      "100%|██████████| 1.63G/1.63G [05:30<00:00, 4.92MB/s]\n"
     ]
    },
    {
     "name": "stdout",
     "output_type": "stream",
     "text": [
      "[2025-09-28 13:08:27,482: INFO: 3970809810]: Extracted zip file to: artifacts\\data_injection\n"
     ]
    }
   ],
   "source": [
    "try:\n",
    "    config = ConfigurationManager()\n",
    "    data_injection_config = config.get_data_injection_config()\n",
    "    print(data_injection_config)\n",
    "    data_ingestion = DataInjection(config=data_injection_config)\n",
    "    data_ingestion.download_file()\n",
    "    data_ingestion.extract_zip_file()\n",
    "except Exception as e:\n",
    "    raise e"
   ]
  },
  {
   "cell_type": "code",
   "execution_count": null,
   "id": "b1b1471a",
   "metadata": {},
   "outputs": [],
   "source": []
  },
  {
   "cell_type": "code",
   "execution_count": null,
   "id": "5d3aba70",
   "metadata": {},
   "outputs": [],
   "source": []
  },
  {
   "cell_type": "code",
   "execution_count": null,
   "id": "bc2fb5d2",
   "metadata": {},
   "outputs": [],
   "source": []
  },
  {
   "cell_type": "code",
   "execution_count": null,
   "id": "381501e9",
   "metadata": {},
   "outputs": [],
   "source": []
  },
  {
   "cell_type": "code",
   "execution_count": null,
   "id": "c2fc74e2",
   "metadata": {},
   "outputs": [],
   "source": []
  },
  {
   "cell_type": "code",
   "execution_count": null,
   "id": "0990f9f2",
   "metadata": {},
   "outputs": [],
   "source": []
  },
  {
   "cell_type": "code",
   "execution_count": null,
   "id": "4167a2f1",
   "metadata": {},
   "outputs": [],
   "source": []
  },
  {
   "cell_type": "code",
   "execution_count": null,
   "id": "10619c3b",
   "metadata": {},
   "outputs": [],
   "source": []
  }
 ],
 "metadata": {
  "kernelspec": {
   "display_name": "kidney",
   "language": "python",
   "name": "python3"
  },
  "language_info": {
   "codemirror_mode": {
    "name": "ipython",
    "version": 3
   },
   "file_extension": ".py",
   "mimetype": "text/x-python",
   "name": "python",
   "nbconvert_exporter": "python",
   "pygments_lexer": "ipython3",
   "version": "3.9.23"
  }
 },
 "nbformat": 4,
 "nbformat_minor": 5
}
